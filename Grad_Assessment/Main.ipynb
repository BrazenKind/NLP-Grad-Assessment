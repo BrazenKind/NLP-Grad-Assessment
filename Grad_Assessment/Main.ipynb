{
 "cells": [
  {
   "cell_type": "code",
   "execution_count": 1,
   "id": "bce62282",
   "metadata": {},
   "outputs": [],
   "source": [
    "from Data_Preprocessing import *\n",
    "from CRF_model import *\n",
    "import numpy as np"
   ]
  },
  {
   "cell_type": "code",
   "execution_count": 2,
   "id": "846ae10c",
   "metadata": {},
   "outputs": [],
   "source": [
    "#Input: the filepath to one of en_ewt-ud-train.conllu, en_ewt-ud-test.conllu, or en_ewt-ud-dev.conllu\n",
    "#Output: 1, x_final: a list containing each tokenized sentence within our file. \n",
    "#        2, x_lemmas_final: a list containing the lemma forms of each token within our tokenized sentences\n",
    "#        3, y_final a list containing the POS tags that correspond to each token within our tokenized sentences\n",
    "#        4, label_IDs: a dict containing every possible POS tag in our file alongside an integer ID for each one \n",
    "#        5, word_IDs: a dict containing every possible word token in our file alongside an integer ID for each one\n",
    "       \n",
    "def create_data(filepath, lines = None):\n",
    "    \n",
    "    with open(filepath, 'r', encoding='UTF-8') as f:\n",
    "        x_toadd = []\n",
    "        x_lemmas_toadd = []\n",
    "        y_toadd = []\n",
    "        x_final = []\n",
    "        x_lemmas_final = []\n",
    "        y_final = []\n",
    "        label_IDs = {}\n",
    "        word_IDs = {}\n",
    "        \n",
    "        limit = -1\n",
    "        \n",
    "        if lines is not None:\n",
    "            limit = lines\n",
    "        else:\n",
    "            limit = sum(1 for line in f) + 1\n",
    "        \n",
    "        for line in f:\n",
    "                       \n",
    "            conllu = line.split()\n",
    "            #case: end of sentence reached\n",
    "            if len(conllu) == 0:\n",
    "                \n",
    "                #filters out one-word sentences such as links to websites\n",
    "                if len(x_toadd) == 1:\n",
    "                    x_toadd = []\n",
    "                    x_lemmas_toadd = []\n",
    "                    y_toadd = []  \n",
    "                    continue\n",
    "                    \n",
    "                x_final.append(x_toadd)\n",
    "                x_lemmas_final.append(x_lemmas_toadd)\n",
    "                y_final.append(y_toadd)\n",
    "                x_toadd = []\n",
    "                x_lemmas_toadd = []\n",
    "                y_toadd = []  \n",
    "                \n",
    "                limit -= 1\n",
    "                if limit == 0:\n",
    "                    break\n",
    "                \n",
    "                \n",
    "                \n",
    "            elif conllu[0].isnumeric():\n",
    "                word = conllu[1]\n",
    "#                 XPOS = conllu[4]\n",
    "#                 extra_tags = conllu[5].split('|')\n",
    "                label = conllu[3]\n",
    "                lemma = conllu[2]\n",
    "    \n",
    "                if label not in label_IDs.keys():\n",
    "                    label_IDs[label] = len(label_IDs)\n",
    "                \n",
    "                if word not in word_IDs.keys():\n",
    "                    word_IDs[word] = len(word_IDs)\n",
    "                    \n",
    "                x_toadd.append(word)\n",
    "                x_lemmas_toadd.append(lemma)\n",
    "                y_toadd.append(label)\n",
    "                \n",
    "                \n",
    "                    \n",
    "                              \n",
    "    return x_final, x_lemmas_final, y_final, label_IDs, word_IDs"
   ]
  },
  {
   "cell_type": "code",
   "execution_count": 3,
   "id": "d0aa510d",
   "metadata": {},
   "outputs": [],
   "source": [
    "x_sentences, x_lemmas, y_sentences, label_IDs, word_IDs = create_data(\"UD_English-EWT/en_ewt-ud-train.conllu\", 10)"
   ]
  },
  {
   "cell_type": "code",
   "execution_count": 4,
   "id": "626d0685",
   "metadata": {},
   "outputs": [],
   "source": [
    "label_IDs['BOS'] = len(label_IDs)\n",
    "label_IDs['EOS'] = len(label_IDs)\n",
    "word_IDs['OOV'] = len(word_IDs)"
   ]
  },
  {
   "cell_type": "code",
   "execution_count": 5,
   "id": "bd2d84ef",
   "metadata": {},
   "outputs": [],
   "source": [
    "datum = Data_Preprocessing(x_data = x_sentences[:10], y_data = y_sentences[:10], x_lemmas = x_lemmas[:10], x_vocab = list(word_IDs.keys()), labels = list(label_IDs.keys()), label_dict = label_IDs)"
   ]
  },
  {
   "cell_type": "code",
   "execution_count": 6,
   "id": "bfd5aaa6",
   "metadata": {},
   "outputs": [
    {
     "name": "stdout",
     "output_type": "stream",
     "text": [
      "Now generating x...\n",
      "Now generating y...\n"
     ]
    }
   ],
   "source": [
    "x_feats, y_feats = datum.generate_features()"
   ]
  },
  {
   "cell_type": "code",
   "execution_count": 7,
   "id": "42e688cd",
   "metadata": {},
   "outputs": [],
   "source": [
    "x_feats_np = np.asarray(x_feats, dtype=object)"
   ]
  },
  {
   "cell_type": "code",
   "execution_count": 8,
   "id": "9d0d39c0",
   "metadata": {},
   "outputs": [],
   "source": [
    "crf = CRF_model(x_feats = x_feats_np, y_feats = y_feats, label_dict = label_IDs)"
   ]
  },
  {
   "cell_type": "code",
   "execution_count": 9,
   "id": "8f4d72fc",
   "metadata": {},
   "outputs": [
    {
     "name": "stdout",
     "output_type": "stream",
     "text": [
      "ERROR: tried to log 0 or a negative no. when calculating Z(x)! Breaking function\n",
      "Debug data:\n",
      "Z[BOS_ID][EOS_ID]:\n",
      "-3.63710532005095e+18\n",
      "Z: \n",
      "[[ 9.24161822e+17  9.24161822e+17  9.24161822e+17  9.24161822e+17\n",
      "   9.24161822e+17  9.24161822e+17  9.24161822e+17  9.24161822e+17\n",
      "   9.24161822e+17  9.24161822e+17  9.24161822e+17  9.24161822e+17\n",
      "   9.24161822e+17  9.24161822e+17  9.24161822e+17  9.24161822e+17]\n",
      " [-1.50658099e+18 -1.50658099e+18 -1.50658099e+18 -1.50658099e+18\n",
      "  -1.50658099e+18 -1.50658099e+18 -1.50658099e+18 -1.50658099e+18\n",
      "  -1.50658099e+18 -1.50658099e+18 -1.50658099e+18 -1.50658099e+18\n",
      "  -1.50658099e+18 -1.50658099e+18 -1.50658099e+18 -1.50658099e+18]\n",
      " [-2.11210722e+18 -2.11210722e+18 -2.11210722e+18 -2.11210722e+18\n",
      "  -2.11210722e+18 -2.11210722e+18 -2.11210722e+18 -2.11210722e+18\n",
      "  -2.11210722e+18 -2.11210722e+18 -2.11210722e+18 -2.11210722e+18\n",
      "  -2.11210722e+18 -2.11210722e+18 -2.11210722e+18 -2.11210722e+18]\n",
      " [-3.19532178e+18 -3.19532178e+18 -3.19532178e+18 -3.19532178e+18\n",
      "  -3.19532178e+18 -3.19532178e+18 -3.19532178e+18 -3.19532178e+18\n",
      "  -3.19532178e+18 -3.19532178e+18 -3.19532178e+18 -3.19532178e+18\n",
      "  -3.19532178e+18 -3.19532178e+18 -3.19532178e+18 -3.19532178e+18]\n",
      " [-3.44238655e+18 -3.44238655e+18 -3.44238655e+18 -3.44238655e+18\n",
      "  -3.44238655e+18 -3.44238655e+18 -3.44238655e+18 -3.44238655e+18\n",
      "  -3.44238655e+18 -3.44238655e+18 -3.44238655e+18 -3.44238655e+18\n",
      "  -3.44238655e+18 -3.44238655e+18 -3.44238655e+18 -3.44238655e+18]\n",
      " [-1.45158681e+18 -1.45158681e+18 -1.45158681e+18 -1.45158681e+18\n",
      "  -1.45158681e+18 -1.45158681e+18 -1.45158681e+18 -1.45158681e+18\n",
      "  -1.45158681e+18 -1.45158681e+18 -1.45158681e+18 -1.45158681e+18\n",
      "  -1.45158681e+18 -1.45158681e+18 -1.45158681e+18 -1.45158681e+18]\n",
      " [ 1.60424699e+18  1.60424699e+18  1.60424699e+18  1.60424699e+18\n",
      "   1.60424699e+18  1.60424699e+18  1.60424699e+18  1.60424699e+18\n",
      "   1.60424699e+18  1.60424699e+18  1.60424699e+18  1.60424699e+18\n",
      "   1.60424699e+18  1.60424699e+18  1.60424699e+18  1.60424699e+18]\n",
      " [-3.30823511e+18 -3.30823511e+18 -3.30823511e+18 -3.30823511e+18\n",
      "  -3.30823511e+18 -3.30823511e+18 -3.30823511e+18 -3.30823511e+18\n",
      "  -3.30823511e+18 -3.30823511e+18 -3.30823511e+18 -3.30823511e+18\n",
      "  -3.30823511e+18 -3.30823511e+18 -3.30823511e+18 -3.30823511e+18]\n",
      " [ 3.73305914e+17  3.73305914e+17  3.73305914e+17  3.73305914e+17\n",
      "   3.73305914e+17  3.73305914e+17  3.73305914e+17  3.73305914e+17\n",
      "   3.73305914e+17  3.73305914e+17  3.73305914e+17  3.73305914e+17\n",
      "   3.73305914e+17  3.73305914e+17  3.73305914e+17  3.73305914e+17]\n",
      " [-3.18540034e+17 -3.18540034e+17 -3.18540034e+17 -3.18540034e+17\n",
      "  -3.18540034e+17 -3.18540034e+17 -3.18540034e+17 -3.18540034e+17\n",
      "  -3.18540034e+17 -3.18540034e+17 -3.18540034e+17 -3.18540034e+17\n",
      "  -3.18540034e+17 -3.18540034e+17 -3.18540034e+17 -3.18540034e+17]\n",
      " [ 1.33041552e+18  1.33041552e+18  1.33041552e+18  1.33041552e+18\n",
      "   1.33041552e+18  1.33041552e+18  1.33041552e+18  1.33041552e+18\n",
      "   1.33041552e+18  1.33041552e+18  1.33041552e+18  1.33041552e+18\n",
      "   1.33041552e+18  1.33041552e+18  1.33041552e+18  1.33041552e+18]\n",
      " [-3.36977600e+18 -3.36977600e+18 -3.36977600e+18 -3.36977600e+18\n",
      "  -3.36977600e+18 -3.36977600e+18 -3.36977600e+18 -3.36977600e+18\n",
      "  -3.36977600e+18 -3.36977600e+18 -3.36977600e+18 -3.36977600e+18\n",
      "  -3.36977600e+18 -3.36977600e+18 -3.36977600e+18 -3.36977600e+18]\n",
      " [-2.67315384e+18 -2.67315384e+18 -2.67315384e+18 -2.67315384e+18\n",
      "  -2.67315384e+18 -2.67315384e+18 -2.67315384e+18 -2.67315384e+18\n",
      "  -2.67315384e+18 -2.67315384e+18 -2.67315384e+18 -2.67315384e+18\n",
      "  -2.67315384e+18 -2.67315384e+18 -2.67315384e+18 -2.67315384e+18]\n",
      " [-2.21910278e+18 -2.21910278e+18 -2.21910278e+18 -2.21910278e+18\n",
      "  -2.21910278e+18 -2.21910278e+18 -2.21910278e+18 -2.21910278e+18\n",
      "  -2.21910278e+18 -2.21910278e+18 -2.21910278e+18 -2.21910278e+18\n",
      "  -2.21910278e+18 -2.21910278e+18 -2.21910278e+18 -2.21910278e+18]\n",
      " [-3.63710532e+18 -3.63710532e+18 -3.63710532e+18 -3.63710532e+18\n",
      "  -3.63710532e+18 -3.63710532e+18 -3.63710532e+18 -3.63710532e+18\n",
      "  -3.63710532e+18 -3.63710532e+18 -3.63710532e+18 -3.63710532e+18\n",
      "  -3.63710532e+18 -3.63710532e+18 -3.63710532e+18 -3.63710532e+18]\n",
      " [-3.55586665e+17 -3.55586665e+17 -3.55586665e+17 -3.55586665e+17\n",
      "  -3.55586665e+17 -3.55586665e+17 -3.55586665e+17 -3.55586665e+17\n",
      "  -3.55586665e+17 -3.55586665e+17 -3.55586665e+17 -3.55586665e+17\n",
      "  -3.55586665e+17 -3.55586665e+17 -3.55586665e+17 -3.55586665e+17]]\n"
     ]
    },
    {
     "ename": "TypeError",
     "evalue": "'int' object is not subscriptable",
     "output_type": "error",
     "traceback": [
      "\u001b[1;31m---------------------------------------------------------------------------\u001b[0m",
      "\u001b[1;31mTypeError\u001b[0m                                 Traceback (most recent call last)",
      "\u001b[1;32m<ipython-input-9-2bfe0ee2607d>\u001b[0m in \u001b[0;36m<module>\u001b[1;34m\u001b[0m\n\u001b[0;32m      1\u001b[0m \u001b[1;31m#NOTE: Returns a math domain error due to trying to log zero or a negative no. in Z(x).\u001b[0m\u001b[1;33m\u001b[0m\u001b[1;33m\u001b[0m\u001b[1;33m\u001b[0m\u001b[0m\n\u001b[1;32m----> 2\u001b[1;33m \u001b[0mcrf\u001b[0m\u001b[1;33m.\u001b[0m\u001b[0mtrain\u001b[0m\u001b[1;33m(\u001b[0m\u001b[1;33m)\u001b[0m\u001b[1;33m\u001b[0m\u001b[1;33m\u001b[0m\u001b[0m\n\u001b[0m",
      "\u001b[1;32m~\\Documents\\GitHub\\NLP-Grad-Assessment\\Grad_Assessment\\CRF_model.py\u001b[0m in \u001b[0;36mtrain\u001b[1;34m(self)\u001b[0m\n\u001b[0;32m     98\u001b[0m         \u001b[1;31m#adadelta = tf.keras.optimizers.Adadelta(learning_rate = 0.001, rho = 0.95, epsilon = 1e-07, name = 'Adadelta')\u001b[0m\u001b[1;33m\u001b[0m\u001b[1;33m\u001b[0m\u001b[1;33m\u001b[0m\u001b[0m\n\u001b[0;32m     99\u001b[0m \u001b[1;33m\u001b[0m\u001b[0m\n\u001b[1;32m--> 100\u001b[1;33m         \u001b[0mlamb_final\u001b[0m \u001b[1;33m=\u001b[0m \u001b[0moptimize\u001b[0m\u001b[1;33m.\u001b[0m\u001b[0mfmin_l_bfgs_b\u001b[0m\u001b[1;33m(\u001b[0m\u001b[0ml\u001b[0m\u001b[1;33m,\u001b[0m \u001b[0mlamb_2\u001b[0m\u001b[1;33m)\u001b[0m\u001b[1;33m\u001b[0m\u001b[1;33m\u001b[0m\u001b[0m\n\u001b[0m\u001b[0;32m    101\u001b[0m \u001b[1;33m\u001b[0m\u001b[0m\n\u001b[0;32m    102\u001b[0m         \u001b[1;31m#adadelta_run = adadelta.minimize(l, var_list = [lamb_final])\u001b[0m\u001b[1;33m\u001b[0m\u001b[1;33m\u001b[0m\u001b[1;33m\u001b[0m\u001b[0m\n",
      "\u001b[1;32m~\\anaconda3\\envs\\tf3\\lib\\site-packages\\scipy\\optimize\\lbfgsb.py\u001b[0m in \u001b[0;36mfmin_l_bfgs_b\u001b[1;34m(func, x0, fprime, args, approx_grad, bounds, m, factr, pgtol, epsilon, iprint, maxfun, maxiter, disp, callback, maxls)\u001b[0m\n\u001b[0;32m    197\u001b[0m \u001b[1;33m\u001b[0m\u001b[0m\n\u001b[0;32m    198\u001b[0m     res = _minimize_lbfgsb(fun, x0, args=args, jac=jac, bounds=bounds,\n\u001b[1;32m--> 199\u001b[1;33m                            **opts)\n\u001b[0m\u001b[0;32m    200\u001b[0m     d = {'grad': res['jac'],\n\u001b[0;32m    201\u001b[0m          \u001b[1;34m'task'\u001b[0m\u001b[1;33m:\u001b[0m \u001b[0mres\u001b[0m\u001b[1;33m[\u001b[0m\u001b[1;34m'message'\u001b[0m\u001b[1;33m]\u001b[0m\u001b[1;33m,\u001b[0m\u001b[1;33m\u001b[0m\u001b[1;33m\u001b[0m\u001b[0m\n",
      "\u001b[1;32m~\\anaconda3\\envs\\tf3\\lib\\site-packages\\scipy\\optimize\\lbfgsb.py\u001b[0m in \u001b[0;36m_minimize_lbfgsb\u001b[1;34m(fun, x0, args, jac, bounds, disp, maxcor, ftol, gtol, eps, maxfun, maxiter, iprint, callback, maxls, **unknown_options)\u001b[0m\n\u001b[0;32m    343\u001b[0m             \u001b[1;31m# until the completion of the current minimization iteration.\u001b[0m\u001b[1;33m\u001b[0m\u001b[1;33m\u001b[0m\u001b[1;33m\u001b[0m\u001b[0m\n\u001b[0;32m    344\u001b[0m             \u001b[1;31m# Overwrite f and g:\u001b[0m\u001b[1;33m\u001b[0m\u001b[1;33m\u001b[0m\u001b[1;33m\u001b[0m\u001b[0m\n\u001b[1;32m--> 345\u001b[1;33m             \u001b[0mf\u001b[0m\u001b[1;33m,\u001b[0m \u001b[0mg\u001b[0m \u001b[1;33m=\u001b[0m \u001b[0mfunc_and_grad\u001b[0m\u001b[1;33m(\u001b[0m\u001b[0mx\u001b[0m\u001b[1;33m)\u001b[0m\u001b[1;33m\u001b[0m\u001b[1;33m\u001b[0m\u001b[0m\n\u001b[0m\u001b[0;32m    346\u001b[0m         \u001b[1;32melif\u001b[0m \u001b[0mtask_str\u001b[0m\u001b[1;33m.\u001b[0m\u001b[0mstartswith\u001b[0m\u001b[1;33m(\u001b[0m\u001b[1;34mb'NEW_X'\u001b[0m\u001b[1;33m)\u001b[0m\u001b[1;33m:\u001b[0m\u001b[1;33m\u001b[0m\u001b[1;33m\u001b[0m\u001b[0m\n\u001b[0;32m    347\u001b[0m             \u001b[1;31m# new iteration\u001b[0m\u001b[1;33m\u001b[0m\u001b[1;33m\u001b[0m\u001b[1;33m\u001b[0m\u001b[0m\n",
      "\u001b[1;32m~\\anaconda3\\envs\\tf3\\lib\\site-packages\\scipy\\optimize\\lbfgsb.py\u001b[0m in \u001b[0;36mfunc_and_grad\u001b[1;34m(x)\u001b[0m\n\u001b[0;32m    293\u001b[0m     \u001b[1;32melse\u001b[0m\u001b[1;33m:\u001b[0m\u001b[1;33m\u001b[0m\u001b[1;33m\u001b[0m\u001b[0m\n\u001b[0;32m    294\u001b[0m         \u001b[1;32mdef\u001b[0m \u001b[0mfunc_and_grad\u001b[0m\u001b[1;33m(\u001b[0m\u001b[0mx\u001b[0m\u001b[1;33m)\u001b[0m\u001b[1;33m:\u001b[0m\u001b[1;33m\u001b[0m\u001b[1;33m\u001b[0m\u001b[0m\n\u001b[1;32m--> 295\u001b[1;33m             \u001b[0mf\u001b[0m \u001b[1;33m=\u001b[0m \u001b[0mfun\u001b[0m\u001b[1;33m(\u001b[0m\u001b[0mx\u001b[0m\u001b[1;33m,\u001b[0m \u001b[1;33m*\u001b[0m\u001b[0margs\u001b[0m\u001b[1;33m)\u001b[0m\u001b[1;33m\u001b[0m\u001b[1;33m\u001b[0m\u001b[0m\n\u001b[0m\u001b[0;32m    296\u001b[0m             \u001b[0mg\u001b[0m \u001b[1;33m=\u001b[0m \u001b[0mjac\u001b[0m\u001b[1;33m(\u001b[0m\u001b[0mx\u001b[0m\u001b[1;33m,\u001b[0m \u001b[1;33m*\u001b[0m\u001b[0margs\u001b[0m\u001b[1;33m)\u001b[0m\u001b[1;33m\u001b[0m\u001b[1;33m\u001b[0m\u001b[0m\n\u001b[0;32m    297\u001b[0m             \u001b[1;32mreturn\u001b[0m \u001b[0mf\u001b[0m\u001b[1;33m,\u001b[0m \u001b[0mg\u001b[0m\u001b[1;33m\u001b[0m\u001b[1;33m\u001b[0m\u001b[0m\n",
      "\u001b[1;32m~\\anaconda3\\envs\\tf3\\lib\\site-packages\\scipy\\optimize\\optimize.py\u001b[0m in \u001b[0;36mfunction_wrapper\u001b[1;34m(*wrapper_args)\u001b[0m\n\u001b[0;32m    325\u001b[0m     \u001b[1;32mdef\u001b[0m \u001b[0mfunction_wrapper\u001b[0m\u001b[1;33m(\u001b[0m\u001b[1;33m*\u001b[0m\u001b[0mwrapper_args\u001b[0m\u001b[1;33m)\u001b[0m\u001b[1;33m:\u001b[0m\u001b[1;33m\u001b[0m\u001b[1;33m\u001b[0m\u001b[0m\n\u001b[0;32m    326\u001b[0m         \u001b[0mncalls\u001b[0m\u001b[1;33m[\u001b[0m\u001b[1;36m0\u001b[0m\u001b[1;33m]\u001b[0m \u001b[1;33m+=\u001b[0m \u001b[1;36m1\u001b[0m\u001b[1;33m\u001b[0m\u001b[1;33m\u001b[0m\u001b[0m\n\u001b[1;32m--> 327\u001b[1;33m         \u001b[1;32mreturn\u001b[0m \u001b[0mfunction\u001b[0m\u001b[1;33m(\u001b[0m\u001b[1;33m*\u001b[0m\u001b[1;33m(\u001b[0m\u001b[0mwrapper_args\u001b[0m \u001b[1;33m+\u001b[0m \u001b[0margs\u001b[0m\u001b[1;33m)\u001b[0m\u001b[1;33m)\u001b[0m\u001b[1;33m\u001b[0m\u001b[1;33m\u001b[0m\u001b[0m\n\u001b[0m\u001b[0;32m    328\u001b[0m \u001b[1;33m\u001b[0m\u001b[0m\n\u001b[0;32m    329\u001b[0m     \u001b[1;32mreturn\u001b[0m \u001b[0mncalls\u001b[0m\u001b[1;33m,\u001b[0m \u001b[0mfunction_wrapper\u001b[0m\u001b[1;33m\u001b[0m\u001b[1;33m\u001b[0m\u001b[0m\n",
      "\u001b[1;32m~\\anaconda3\\envs\\tf3\\lib\\site-packages\\scipy\\optimize\\optimize.py\u001b[0m in \u001b[0;36m__call__\u001b[1;34m(self, x, *args)\u001b[0m\n\u001b[0;32m     64\u001b[0m         \u001b[0mself\u001b[0m\u001b[1;33m.\u001b[0m\u001b[0mx\u001b[0m \u001b[1;33m=\u001b[0m \u001b[0mnumpy\u001b[0m\u001b[1;33m.\u001b[0m\u001b[0masarray\u001b[0m\u001b[1;33m(\u001b[0m\u001b[0mx\u001b[0m\u001b[1;33m)\u001b[0m\u001b[1;33m.\u001b[0m\u001b[0mcopy\u001b[0m\u001b[1;33m(\u001b[0m\u001b[1;33m)\u001b[0m\u001b[1;33m\u001b[0m\u001b[1;33m\u001b[0m\u001b[0m\n\u001b[0;32m     65\u001b[0m         \u001b[0mfg\u001b[0m \u001b[1;33m=\u001b[0m \u001b[0mself\u001b[0m\u001b[1;33m.\u001b[0m\u001b[0mfun\u001b[0m\u001b[1;33m(\u001b[0m\u001b[0mx\u001b[0m\u001b[1;33m,\u001b[0m \u001b[1;33m*\u001b[0m\u001b[0margs\u001b[0m\u001b[1;33m)\u001b[0m\u001b[1;33m\u001b[0m\u001b[1;33m\u001b[0m\u001b[0m\n\u001b[1;32m---> 66\u001b[1;33m         \u001b[0mself\u001b[0m\u001b[1;33m.\u001b[0m\u001b[0mjac\u001b[0m \u001b[1;33m=\u001b[0m \u001b[0mfg\u001b[0m\u001b[1;33m[\u001b[0m\u001b[1;36m1\u001b[0m\u001b[1;33m]\u001b[0m\u001b[1;33m\u001b[0m\u001b[1;33m\u001b[0m\u001b[0m\n\u001b[0m\u001b[0;32m     67\u001b[0m         \u001b[1;32mreturn\u001b[0m \u001b[0mfg\u001b[0m\u001b[1;33m[\u001b[0m\u001b[1;36m0\u001b[0m\u001b[1;33m]\u001b[0m\u001b[1;33m\u001b[0m\u001b[1;33m\u001b[0m\u001b[0m\n\u001b[0;32m     68\u001b[0m \u001b[1;33m\u001b[0m\u001b[0m\n",
      "\u001b[1;31mTypeError\u001b[0m: 'int' object is not subscriptable"
     ]
    }
   ],
   "source": [
    "#NOTE: Returns a math domain error due to trying to log zero or a negative no. in Z(x).\n",
    "crf.train()"
   ]
  },
  {
   "cell_type": "code",
   "execution_count": null,
   "id": "a4c47b22",
   "metadata": {},
   "outputs": [],
   "source": []
  }
 ],
 "metadata": {
  "kernelspec": {
   "display_name": "tf3",
   "language": "python",
   "name": "tf3"
  },
  "language_info": {
   "codemirror_mode": {
    "name": "ipython",
    "version": 3
   },
   "file_extension": ".py",
   "mimetype": "text/x-python",
   "name": "python",
   "nbconvert_exporter": "python",
   "pygments_lexer": "ipython3",
   "version": "3.6.12"
  }
 },
 "nbformat": 4,
 "nbformat_minor": 5
}
