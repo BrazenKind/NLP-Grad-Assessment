{
 "cells": [
  {
   "cell_type": "code",
   "execution_count": 3,
   "id": "9310a929",
   "metadata": {},
   "outputs": [],
   "source": [
    "import numpy as np\n",
    "import regex as re"
   ]
  },
  {
   "cell_type": "code",
   "execution_count": 7,
   "id": "1e9f17b3",
   "metadata": {},
   "outputs": [
    {
     "data": {
      "text/plain": [
       "<regex.Match object; span=(6, 7), match='8'>"
      ]
     },
     "execution_count": 7,
     "metadata": {},
     "output_type": "execute_result"
    }
   ],
   "source": []
  },
  {
   "cell_type": "code",
   "execution_count": null,
   "id": "2b4e6045",
   "metadata": {},
   "outputs": [],
   "source": [
    "class Data_Preprocessing:\n",
    "    def __init__(self, x_data, y_data, x_lemmas):\n",
    "        self.x = x_data\n",
    "        self.y = y_data\n",
    "        self.x_l = x_lemmas\n",
    "        \n",
    "    #b(x, i) in Intro to CRFs Hanna M. Wallach et al.\n",
    "    def equivalence_func(self, x, i, x_seq):\n",
    "\n",
    "        return 1 if x == x_seq[i] else 0\n",
    "\n",
    "    def transition_func(self, y_prev, y, x, i, x_seq, y_seq):\n",
    "\n",
    "#         transition_encodings = []\n",
    "\n",
    "#         for y_prev in y_seq[:-1]:\n",
    "#             for y in y_seq[1:]:\n",
    "#                 transition_encodings += equivalence_func(x, i, x_seq) if y_prev == y_seq[i-1] and y == y_seq[i] else 0\n",
    "\n",
    "#         return transition_encodings\n",
    "\n",
    "    #     return [lambda y_prev, y, x, i, x_seq, y_seq: equivalence_func(x, i, x_seq) if y_prev == y_seq[i-1] and y == y_seq[i] else 0\n",
    "    #            for y_prev in y_seq[:-1] for y in y_seq[1:]]\n",
    "    \n",
    "        return equivalence_func(x, i, x_seq) if y_prev == y_seq[i-1] and y == y_seq[i] else 0\n",
    "\n",
    "    def potential_funcs(self, y, x, x_lemma, i):\n",
    "\n",
    "        features = []\n",
    "        \n",
    "        #feature 1: 1 if lemma form is same as base form, else 0\n",
    "        features += [lambda y_prev, self.y, self.x, i: 1 if self.x_l[i] is self.x[i] else 0]\n",
    "        #feature 2: 1 if a numeral is present in x, else 0\n",
    "        features += [lambda y_prev, self.y, self.x, i: 1 if re.search('[0-9]', self.x[i]) else 0]\n",
    "\n",
    "        return features\n",
    "\n",
    "    #Generates features for a single sentence in out x dataset\n",
    "    def featurize_sentence(self, sentence, labels, funcs):\n",
    "\n",
    "        feature_len = len(funcs)\n",
    "        features = np.zeros(len(sentence) + 1, len(labels), len(labels), feature_len)\n",
    "        return 0\n",
    "#         for i in range(0, len(sentence) + 1):\n",
    "#             for j in range(0, len(labels)):\n",
    "#                 for k in range(0, len(labels)):\n",
    "#                     for func in funcs:"
   ]
  }
 ],
 "metadata": {
  "kernelspec": {
   "display_name": "tf3",
   "language": "python",
   "name": "tf3"
  },
  "language_info": {
   "codemirror_mode": {
    "name": "ipython",
    "version": 3
   },
   "file_extension": ".py",
   "mimetype": "text/x-python",
   "name": "python",
   "nbconvert_exporter": "python",
   "pygments_lexer": "ipython3",
   "version": "3.6.12"
  }
 },
 "nbformat": 4,
 "nbformat_minor": 5
}
