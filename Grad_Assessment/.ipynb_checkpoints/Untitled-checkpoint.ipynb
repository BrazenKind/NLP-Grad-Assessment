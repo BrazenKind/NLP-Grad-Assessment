{
 "cells": [
  {
   "cell_type": "code",
   "execution_count": 24,
   "id": "5f5ae686",
   "metadata": {},
   "outputs": [],
   "source": [
    "import math\n",
    "import numpy as np\n"
   ]
  },
  {
   "cell_type": "code",
   "execution_count": null,
   "id": "5e86af05",
   "metadata": {},
   "outputs": [],
   "source": [
    "for x in zip([[0, 1], [1, 1], [0,1]], [1,0,1]):\n",
    "    print(x)"
   ]
  },
  {
   "cell_type": "code",
   "execution_count": 23,
   "id": "33b60455",
   "metadata": {},
   "outputs": [],
   "source": [
    "BOS = 'BOS'\n",
    "EOS = 'EOS'"
   ]
  },
  {
   "cell_type": "code",
   "execution_count": 22,
   "id": "74b35974",
   "metadata": {},
   "outputs": [],
   "source": [
    "#b(x, i) in Intro to CRFs Hanna M. Wallach et al.\n",
    "def equivalence_func(x, i, x_seq):\n",
    "    \n",
    "    return 1 if x == x_seq[i] else 0\n",
    "\n",
    "def transition_funcs(y_prev, y, x, i, x_seq, y_seq):\n",
    "    \n",
    "    return [lambda y_prev, y, x, i, x_seq, y_seq: equivalence_func(x, i, x_seq) if y_prev == y_seq[i-1] and y == y_seq[i] else 0\n",
    "           for y_prev in y_seq[:-1] for y in y_seq[1:]]\n",
    "    #return equivalence_func(x, i, x_seq) if y_prev == y_seq[i-1] and y == y_seq[i] else 0\n",
    "\n",
    "def potential_funcs(y, x, i):\n",
    "    \n",
    "    return \n",
    "    \n",
    "\n",
    "def create_features(filepath):\n",
    "    \n",
    "    with open(filepath, 'r', encoding='UTF-8') as f:\n",
    "        x_toadd = []\n",
    "        y_toadd = []\n",
    "        x_final = []\n",
    "        y_final = []\n",
    "        \n",
    "        for line in f:\n",
    "                       \n",
    "            conllu = line.split()\n",
    "            #case: end of sentence reached\n",
    "            if len(conllu) == 0:\n",
    "                x_final.append(x_toadd)\n",
    "                y_final.append(y_toadd)\n",
    "                x_toadd = []\n",
    "                y_toadd = []                \n",
    "            elif conllu[0].isnumeric():\n",
    "                word = conllu[1]\n",
    "#                 XPOS = conllu[4]\n",
    "#                 extra_tags = conllu[5].split('|')\n",
    "                wordtype = conllu[3]\n",
    "                                       \n",
    "                x_toadd.append(word)\n",
    "                y_toadd.append(wordtype)\n",
    "                              \n",
    "    return x_final, y_final"
   ]
  },
  {
   "cell_type": "code",
   "execution_count": 31,
   "id": "34b72e1f",
   "metadata": {},
   "outputs": [
    {
     "data": {
      "text/plain": [
       "array([[[0., 0.],\n",
       "        [0., 0.],\n",
       "        [0., 0.]],\n",
       "\n",
       "       [[0., 0.],\n",
       "        [0., 0.],\n",
       "        [0., 0.]],\n",
       "\n",
       "       [[0., 0.],\n",
       "        [0., 0.],\n",
       "        [0., 0.]]])"
      ]
     },
     "execution_count": 31,
     "metadata": {},
     "output_type": "execute_result"
    }
   ],
   "source": [
    "np.zeros((3, 3, 2))"
   ]
  },
  {
   "cell_type": "code",
   "execution_count": null,
   "id": "6442bb7a",
   "metadata": {},
   "outputs": [],
   "source": [
    "if __name__ == '__main__':\n",
    "    "
   ]
  }
 ],
 "metadata": {
  "kernelspec": {
   "display_name": "tf3",
   "language": "python",
   "name": "tf3"
  },
  "language_info": {
   "codemirror_mode": {
    "name": "ipython",
    "version": 3
   },
   "file_extension": ".py",
   "mimetype": "text/x-python",
   "name": "python",
   "nbconvert_exporter": "python",
   "pygments_lexer": "ipython3",
   "version": "3.6.12"
  }
 },
 "nbformat": 4,
 "nbformat_minor": 5
}
